{
 "cells": [
  {
   "cell_type": "code",
   "execution_count": 34,
   "id": "5c4b608e",
   "metadata": {},
   "outputs": [
    {
     "data": {
      "text/plain": [
       "['We always come to Paris',\n",
       " 'The professor is from Australia',\n",
       " 'I live in Stanford',\n",
       " 'He comes from Taiwan',\n",
       " 'The capital of Turkey is Ankara']"
      ]
     },
     "execution_count": 34,
     "metadata": {},
     "output_type": "execute_result"
    }
   ],
   "source": [
    "corpus = [\n",
    "          \"We always come to Paris\",\n",
    "          \"The professor is from Australia\",\n",
    "          \"I live in Stanford\",\n",
    "          \"He comes from Taiwan\",\n",
    "          \"The capital of Turkey is Ankara\"\n",
    "         ]\n",
    "corpus"
   ]
  },
  {
   "cell_type": "code",
   "execution_count": 35,
   "id": "3177b09e",
   "metadata": {},
   "outputs": [
    {
     "data": {
      "text/plain": [
       "[['we', 'always', 'come', 'to', 'paris'],\n",
       " ['the', 'professor', 'is', 'from', 'australia'],\n",
       " ['i', 'live', 'in', 'stanford'],\n",
       " ['he', 'comes', 'from', 'taiwan'],\n",
       " ['the', 'capital', 'of', 'turkey', 'is', 'ankara']]"
      ]
     },
     "execution_count": 35,
     "metadata": {},
     "output_type": "execute_result"
    }
   ],
   "source": [
    "def preprocess(sentence):\n",
    "    return sentence.lower().split()\n",
    "preprocessed_corpus = []\n",
    "for sentence in corpus:\n",
    "    preprocessed_corpus.append(preprocess(sentence))\n",
    "\n",
    "preprocessed_corpus"
   ]
  },
  {
   "cell_type": "code",
   "execution_count": 8,
   "id": "ff065be6",
   "metadata": {},
   "outputs": [
    {
     "data": {
      "text/plain": [
       "[[0, 0, 0, 0, 1],\n",
       " [0, 0, 0, 0, 1],\n",
       " [0, 0, 0, 1],\n",
       " [0, 0, 0, 1],\n",
       " [0, 0, 0, 1, 0, 1]]"
      ]
     },
     "execution_count": 8,
     "metadata": {},
     "output_type": "execute_result"
    }
   ],
   "source": [
    "locations = set([\"australia\", \"ankara\", \"paris\", \"stanford\", \"taiwan\", \"turkey\"])\n",
    "train_labels =[[1 if word in locations else 0 for word in sentence] for sentence in preprocessed_corpus]\n",
    "train_labels\n"
   ]
  },
  {
   "cell_type": "code",
   "execution_count": 13,
   "id": "dae86f12",
   "metadata": {},
   "outputs": [
    {
     "data": {
      "text/plain": [
       "{'<unk>',\n",
       " 'always',\n",
       " 'ankara',\n",
       " 'australia',\n",
       " 'capital',\n",
       " 'come',\n",
       " 'comes',\n",
       " 'from',\n",
       " 'he',\n",
       " 'i',\n",
       " 'in',\n",
       " 'is',\n",
       " 'live',\n",
       " 'of',\n",
       " 'paris',\n",
       " 'professor',\n",
       " 'stanford',\n",
       " 'taiwan',\n",
       " 'the',\n",
       " 'to',\n",
       " 'turkey',\n",
       " 'we'}"
      ]
     },
     "execution_count": 13,
     "metadata": {},
     "output_type": "execute_result"
    }
   ],
   "source": [
    "vocabulary = set(w for s in preprocessed_corpus for w in s)\n",
    "vocabulary.add(\"<unk>\")   # adding an unknown word if incase some word pops up that is not in the vocabulary\n",
    "vocabulary\n"
   ]
  },
  {
   "cell_type": "code",
   "execution_count": 14,
   "id": "753ef8a3",
   "metadata": {},
   "outputs": [],
   "source": [
    "vocabulary.add(\"<pad>\")"
   ]
  },
  {
   "cell_type": "code",
   "execution_count": 16,
   "id": "ca8bb3b2",
   "metadata": {},
   "outputs": [
    {
     "data": {
      "text/plain": [
       "['<pad>', '<pad>', 'we', 'always', 'come', 'to', 'paris', '<pad>', '<pad>']"
      ]
     },
     "execution_count": 16,
     "metadata": {},
     "output_type": "execute_result"
    }
   ],
   "source": [
    "def pad_window(sentence, window_size, padtoken = \"<pad>\"):\n",
    "    window = [padtoken]*window_size\n",
    "    return window + sentence + window\n",
    "\n",
    "window_size = 2\n",
    "pad_window(preprocessed_corpus[0], window_size, \"<pad>\")"
   ]
  },
  {
   "cell_type": "code",
   "execution_count": 17,
   "id": "0c3b16b3",
   "metadata": {},
   "outputs": [
    {
     "data": {
      "text/plain": [
       "{'<pad>': 0,\n",
       " '<unk>': 1,\n",
       " 'always': 2,\n",
       " 'ankara': 3,\n",
       " 'australia': 4,\n",
       " 'capital': 5,\n",
       " 'come': 6,\n",
       " 'comes': 7,\n",
       " 'from': 8,\n",
       " 'he': 9,\n",
       " 'i': 10,\n",
       " 'in': 11,\n",
       " 'is': 12,\n",
       " 'live': 13,\n",
       " 'of': 14,\n",
       " 'paris': 15,\n",
       " 'professor': 16,\n",
       " 'stanford': 17,\n",
       " 'taiwan': 18,\n",
       " 'the': 19,\n",
       " 'to': 20,\n",
       " 'turkey': 21,\n",
       " 'we': 22}"
      ]
     },
     "execution_count": 17,
     "metadata": {},
     "output_type": "execute_result"
    }
   ],
   "source": [
    "ix_to_word = sorted(list(vocabulary))\n",
    "\n",
    "word_to_ix = {word: ind for ind, word in enumerate(ix_to_word)}\n",
    "word_to_ix"
   ]
  },
  {
   "cell_type": "code",
   "execution_count": 18,
   "id": "b6f2fd83",
   "metadata": {},
   "outputs": [
    {
     "data": {
      "text/plain": [
       "'<unk>'"
      ]
     },
     "execution_count": 18,
     "metadata": {},
     "output_type": "execute_result"
    }
   ],
   "source": [
    "ix_to_word[1]"
   ]
  },
  {
   "cell_type": "code",
   "execution_count": 20,
   "id": "32813b65",
   "metadata": {},
   "outputs": [
    {
     "name": "stdout",
     "output_type": "stream",
     "text": [
      "Original sentence is: ['we', 'always', 'come', 'to', 'kuwait']\n",
      "Going from words to indices: [22, 2, 6, 20, 1]\n",
      "Going from indices to words: ['we', 'always', 'come', 'to', '<unk>']\n"
     ]
    }
   ],
   "source": [
    "def convert_token_to_indices(sentence, word_to_ix):\n",
    "    indices = []\n",
    "    for token in sentence:\n",
    "        if token in word_to_ix:\n",
    "            index = word_to_ix[token]\n",
    "        else:\n",
    "            index = word_to_ix[\"<unk>\"]\n",
    "        indices.append(index)\n",
    "    return indices\n",
    "\n",
    "example_sentence = [\"we\", \"always\", \"come\", \"to\", \"kuwait\"]\n",
    "example_indices = convert_token_to_indices(example_sentence, word_to_ix)\n",
    "restored_example = [ix_to_word[ind] for ind in example_indices]\n",
    "\n",
    "print(f\"Original sentence is: {example_sentence}\")\n",
    "print(f\"Going from words to indices: {example_indices}\")\n",
    "print(f\"Going from indices to words: {restored_example}\")"
   ]
  },
  {
   "cell_type": "code",
   "execution_count": 22,
   "id": "611984d9",
   "metadata": {},
   "outputs": [
    {
     "data": {
      "text/plain": [
       "[[22, 2, 6, 20, 15],\n",
       " [19, 16, 12, 8, 4],\n",
       " [10, 13, 11, 17],\n",
       " [9, 7, 8, 18],\n",
       " [19, 5, 14, 21, 12, 3]]"
      ]
     },
     "execution_count": 22,
     "metadata": {},
     "output_type": "execute_result"
    }
   ],
   "source": [
    "example_padded_indices = [convert_token_to_indices(s, word_to_ix) for s in preprocessed_corpus]\n",
    "example_padded_indices"
   ]
  },
  {
   "cell_type": "code",
   "execution_count": null,
   "id": "7c309d62",
   "metadata": {},
   "outputs": [
    {
     "data": {
      "text/plain": [
       "[Parameter containing:\n",
       " tensor([[-1.7934, -0.3921,  0.3263,  0.0237,  0.3535],\n",
       "         [-0.4844,  0.1531,  0.7052,  0.6178,  0.3414],\n",
       "         [ 0.4837, -0.6306, -0.9472,  0.4646, -0.6702],\n",
       "         [ 1.4959, -0.4575,  0.3866,  1.8097, -0.0988],\n",
       "         [ 1.0381,  0.4787, -0.2977,  0.7271,  0.9825],\n",
       "         [-0.2925,  0.4193, -0.4721,  0.0244, -0.7662],\n",
       "         [ 1.4292,  0.7997,  0.0171, -1.4060,  0.2648],\n",
       "         [-0.8661,  0.4205,  0.0369,  1.5047,  0.3901],\n",
       "         [-0.4543,  0.8686,  0.9590,  1.8814,  1.0227],\n",
       "         [ 0.7355, -0.2077, -0.9366,  0.1022,  0.8561],\n",
       "         [-0.8309, -1.1065, -0.1666, -0.5171, -0.4862],\n",
       "         [-1.0524, -0.3441, -0.2002,  0.4536,  0.3124],\n",
       "         [ 1.1443, -0.1175,  1.5089,  0.0245, -0.8457],\n",
       "         [-0.5645,  2.1834, -0.4145, -0.5798, -0.4642],\n",
       "         [ 0.2338,  0.6342,  1.1468, -0.3125,  0.5227],\n",
       "         [ 1.6301, -0.3974, -1.8638,  1.1229,  0.5235],\n",
       "         [-0.2502, -0.2389, -0.6230,  0.7744,  0.1322],\n",
       "         [-0.0521, -0.1745, -1.0588,  0.0074,  0.6034],\n",
       "         [ 0.0861, -0.3245,  1.4825, -0.8944, -1.5655],\n",
       "         [-0.8550,  0.6571,  0.2405,  0.3299,  0.4228],\n",
       "         [ 0.0612,  1.1736,  0.4234, -0.7482,  1.1797],\n",
       "         [-1.0826, -0.8750, -0.9499,  0.0871, -2.0034],\n",
       "         [ 0.9815,  0.1554,  0.9916,  0.4474,  0.6232]], requires_grad=True)]"
      ]
     },
     "execution_count": 25,
     "metadata": {},
     "output_type": "execute_result"
    }
   ],
   "source": [
    "import torch.nn as nn\n",
    "import torch\n",
    "\n",
    "embedding_dim = 5\n",
    "embeds = nn.Embedding(len(vocabulary), embedding_dim)  ######### IMPORTANT (initially random)\n",
    "\n",
    "list(embeds.parameters())"
   ]
  },
  {
   "cell_type": "code",
   "execution_count": 32,
   "id": "d3903b08",
   "metadata": {},
   "outputs": [
    {
     "data": {
      "text/plain": [
       "tensor([ 0.0861, -0.3245,  1.4825, -0.8944, -1.5655],\n",
       "       grad_fn=<EmbeddingBackward0>)"
      ]
     },
     "execution_count": 32,
     "metadata": {},
     "output_type": "execute_result"
    }
   ],
   "source": [
    "\n",
    "index = word_to_ix['taiwan']\n",
    "index_tensor = torch.tensor(index, dtype = torch.long)\n",
    "taiwan_embeds = embeds(index_tensor)\n",
    "taiwan_embeds"
   ]
  },
  {
   "cell_type": "code",
   "execution_count": 33,
   "id": "c9bf918b",
   "metadata": {},
   "outputs": [
    {
     "data": {
      "text/plain": [
       "tensor([[ 1.6301, -0.3974, -1.8638,  1.1229,  0.5235],\n",
       "        [ 1.4959, -0.4575,  0.3866,  1.8097, -0.0988]],\n",
       "       grad_fn=<EmbeddingBackward0>)"
      ]
     },
     "execution_count": 33,
     "metadata": {},
     "output_type": "execute_result"
    }
   ],
   "source": [
    "index_paris = word_to_ix[\"paris\"]\n",
    "index_ankara = word_to_ix[\"ankara\"]\n",
    "indices = [index_paris, index_ankara]\n",
    "indices_tensor = torch.tensor(indices, dtype=torch.long)\n",
    "embeddings = embeds(indices_tensor)\n",
    "embeddings"
   ]
  },
  {
   "cell_type": "markdown",
   "id": "7f4d18fe",
   "metadata": {},
   "source": [
    "**DATALOADER**"
   ]
  },
  {
   "cell_type": "code",
   "execution_count": 46,
   "id": "7f7ca196",
   "metadata": {},
   "outputs": [],
   "source": [
    "from torch.utils.data import DataLoader\n",
    "from functools import partial\n",
    "\n",
    "def custom_collate_fn(batch, window_size, word_to_ix):\n",
    "\n",
    "    x, y = zip(*batch)                  # unpack the batch into training examples (x) and labels(y)\n",
    "\n",
    "    def pad_window(sentence, window_size, pad_token=\"<pad>\"):\n",
    "        window = [pad_token] * window_size\n",
    "        return window + sentence + window\n",
    "    \n",
    "    x = [pad_window(s, window_size=window_size) for s in x]\n",
    "\n",
    "    def convert_token_to_indices(sentence, word_to_ix):\n",
    "        return [word_to_ix.get(token, word_to_ix[\"<unk>\"]) for token in sentence]\n",
    "    \n",
    "    x = [convert_token_to_indices(s, word_to_ix) for s in x]\n",
    "\n",
    "    pad_token_ix = word_to_ix[\"<pad>\"]\n",
    "\n",
    "    # pad_sequence function expects the input to be a tensor, so we turn x into a tensor\n",
    "    x = [torch.LongTensor(x_i) for x_i in x]\n",
    "    x_padded = nn.utils.rnn.pad_sequence(x, batch_first=True, padding_value=pad_token_ix)       # pads all input sequence in x to be the length of the longest sequnce\n",
    "\n",
    "    # We will also pad the labels. Before doing so, we will record the number of labels so that we know how many words existed in each example.\n",
    "    lengths = [len(label) for label in y]\n",
    "    lengths = torch.LongTensor(lengths)\n",
    "\n",
    "    y = [torch.LongTensor(y_i) for y_i in y]\n",
    "    y_padded = nn.utils.rnn.pad_sequence(y, batch_first=True, padding_value=0)\n",
    "\n",
    "    # We are now ready to return our variables. The order we return our variables\n",
    "    # here will match the order we read them in our training loop.\n",
    "    return x_padded, y_padded, lengths\n",
    "\n",
    "\n"
   ]
  },
  {
   "cell_type": "code",
   "execution_count": 47,
   "id": "db469593",
   "metadata": {},
   "outputs": [
    {
     "name": "stdout",
     "output_type": "stream",
     "text": [
      "Iteration 0\n",
      "Batched Input:\n",
      "tensor([[ 0,  0, 19,  5, 14, 21, 12,  3,  0,  0],\n",
      "        [ 0,  0, 10, 13, 11, 17,  0,  0,  0,  0]])\n",
      "Batched Labels:\n",
      "tensor([[0, 0, 0, 1, 0, 1],\n",
      "        [0, 0, 0, 1, 0, 0]])\n",
      "Batched Lengths:\n",
      "tensor([6, 4])\n",
      "\n",
      "Iteration 1\n",
      "Batched Input:\n",
      "tensor([[ 0,  0, 19, 16, 12,  8,  4,  0,  0],\n",
      "        [ 0,  0, 22,  2,  6, 20, 15,  0,  0]])\n",
      "Batched Labels:\n",
      "tensor([[0, 0, 0, 0, 1],\n",
      "        [0, 0, 0, 0, 1]])\n",
      "Batched Lengths:\n",
      "tensor([5, 5])\n",
      "\n",
      "Iteration 2\n",
      "Batched Input:\n",
      "tensor([[ 0,  0,  9,  7,  8, 18,  0,  0]])\n",
      "Batched Labels:\n",
      "tensor([[0, 0, 0, 1]])\n",
      "Batched Lengths:\n",
      "tensor([4])\n",
      "\n"
     ]
    }
   ],
   "source": [
    "data = list(zip(preprocessed_corpus, train_labels))\n",
    "\n",
    "batch_size = 2\n",
    "shuffle = True\n",
    "window_size = 2\n",
    "collate_fn = partial(custom_collate_fn, window_size=window_size, word_to_ix=word_to_ix)\n",
    "\n",
    "loader = DataLoader(data, batch_size=batch_size, shuffle=shuffle, collate_fn=collate_fn)\n",
    "\n",
    "counter = 0\n",
    "for batched_x, batched_y, batched_lengths in loader:\n",
    "    print(f\"Iteration {counter}\")\n",
    "    print(\"Batched Input:\")\n",
    "    print(batched_x)\n",
    "    print(\"Batched Labels:\")\n",
    "    print(batched_y)\n",
    "    print(\"Batched Lengths:\")\n",
    "    print(batched_lengths)\n",
    "    print(\"\")\n",
    "    counter += 1\n"
   ]
  },
  {
   "cell_type": "code",
   "execution_count": 48,
   "id": "eeed4dcd",
   "metadata": {},
   "outputs": [
    {
     "name": "stdout",
     "output_type": "stream",
     "text": [
      "Original Tensor: \n",
      "tensor([[ 0,  0,  9,  7,  8, 18,  0,  0]])\n",
      "\n",
      "Windows: \n",
      "tensor([[[ 0,  0,  9,  7,  8],\n",
      "         [ 0,  9,  7,  8, 18],\n",
      "         [ 9,  7,  8, 18,  0],\n",
      "         [ 7,  8, 18,  0,  0]]])\n"
     ]
    }
   ],
   "source": [
    "print(f\"Original Tensor: \")\n",
    "print(batched_x)\n",
    "print(\"\")\n",
    "\n",
    "# Create the 2 * 2 + 1 chunks\n",
    "chunk = batched_x.unfold(1, window_size*2 + 1, 1)\n",
    "print(f\"Windows: \")\n",
    "print(chunk)"
   ]
  },
  {
   "cell_type": "code",
   "execution_count": null,
   "id": "530bd828",
   "metadata": {},
   "outputs": [],
   "source": []
  },
  {
   "cell_type": "code",
   "execution_count": null,
   "id": "0eb578eb",
   "metadata": {},
   "outputs": [],
   "source": []
  }
 ],
 "metadata": {
  "kernelspec": {
   "display_name": "Python 3",
   "language": "python",
   "name": "python3"
  },
  "language_info": {
   "codemirror_mode": {
    "name": "ipython",
    "version": 3
   },
   "file_extension": ".py",
   "mimetype": "text/x-python",
   "name": "python",
   "nbconvert_exporter": "python",
   "pygments_lexer": "ipython3",
   "version": "3.13.3"
  }
 },
 "nbformat": 4,
 "nbformat_minor": 5
}
